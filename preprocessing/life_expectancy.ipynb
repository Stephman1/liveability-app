{
  "nbformat": 4,
  "nbformat_minor": 0,
  "metadata": {
    "colab": {
      "provenance": []
    },
    "kernelspec": {
      "name": "python3",
      "display_name": "Python 3"
    },
    "language_info": {
      "name": "python"
    }
  },
  "cells": [
    {
      "cell_type": "code",
      "metadata": {
        "id": "t0GLbxBZjBjH"
      },
      "source": [
        "import pandas as pd\n",
        "import numpy as np"
      ],
      "execution_count": null,
      "outputs": []
    },
    {
      "cell_type": "code",
      "metadata": {
        "id": "-Fzl4FM9m7h1"
      },
      "source": [
        "prefix = '/content/drive'\n",
        "from google.colab import drive\n",
        "drive.mount(prefix, force_remount=True)"
      ],
      "execution_count": null,
      "outputs": []
    },
    {
      "cell_type": "markdown",
      "metadata": {
        "id": "rxxlKMaQ93TO"
      },
      "source": [
        "Now, you should see a directory named \"drive\" when you click the Files icon on the left. Expand this directory and navigate to the location you saved the census data. Control-click (right-click for PC) on the file and select \"copy path\". Then, paste the path into `file_path` variable in the cell below and run the cell."
      ]
    },
    {
      "cell_type": "code",
      "metadata": {
        "id": "cii5SRUU_HSA"
      },
      "source": [
        "scotland_fp = '/content/drive/MyDrive/CIS550/datasets/scotland_life_expectancy.csv'\n",
        "england_ni_wales_fp = '/content/drive/MyDrive/CIS550/datasets/uk_life_expectancy_2020-22.csv'"
      ],
      "execution_count": null,
      "outputs": []
    },
    {
      "cell_type": "markdown",
      "metadata": {
        "id": "z0cGiQS0_ZbE"
      },
      "source": [
        "The dataset is stored as a CSV, so we'll load it into a `DataFrame` using `pandas.read_csv` in the code cell below. `Pandas` also defines a number of other [IO functions](https://pandas.pydata.org/pandas-docs/stable/user_guide/io.html) that load the contents of common file types directly into `DataFrames`."
      ]
    },
    {
      "cell_type": "code",
      "source": [
        "data_scotland = pd.read_csv(scotland_fp)\n",
        "data_scotland.head()"
      ],
      "metadata": {
        "id": "bJz9uJ6HS-8W"
      },
      "execution_count": null,
      "outputs": []
    },
    {
      "cell_type": "code",
      "source": [
        "data_england_ni_wales = pd.read_csv(england_ni_wales_fp, encoding='latin-1') # Try 'latin-1' encoding\n",
        "data_england_ni_wales.head()"
      ],
      "metadata": {
        "id": "JYVfrTrOVCir"
      },
      "execution_count": null,
      "outputs": []
    },
    {
      "cell_type": "code",
      "source": [
        "# Rename columns in Scotland data to match the other dataset\n",
        "data_scotland = data_scotland.rename(columns={\n",
        "    'Council area name': 'Area name',\n",
        "    'Council area code': 'Area code',\n",
        "    'Females': 'Female',\n",
        "    'Males': 'Male'\n",
        "})\n",
        "\n",
        "# Add missing columns to the Scotland dataset\n",
        "data_scotland['Country'] = 'Scotland'\n",
        "data_scotland['Area type'] = 'Local Areas'\n",
        "data_scotland = data_scotland.melt(id_vars=['Country', 'Area type', 'Area code', 'Area name'],\n",
        "                                   var_name='Sex', value_name='Life expectancy (years)')"
      ],
      "metadata": {
        "id": "5Pg2y2-FSKPz"
      },
      "execution_count": null,
      "outputs": []
    },
    {
      "cell_type": "code",
      "source": [
        "# Combine the datasets\n",
        "combined_data = pd.concat([data_england_ni_wales, data_scotland], ignore_index=True)"
      ],
      "metadata": {
        "id": "RD0nE6hISON5"
      },
      "execution_count": null,
      "outputs": []
    },
    {
      "cell_type": "code",
      "source": [
        "# Handle missing values\n",
        "combined_data = combined_data.fillna('')"
      ],
      "metadata": {
        "id": "vfx187KQSRpY"
      },
      "execution_count": null,
      "outputs": []
    },
    {
      "cell_type": "code",
      "source": [
        "# Display the combined dataframe\n",
        "combined_data.head()"
      ],
      "metadata": {
        "id": "JSj9C77_SWRw"
      },
      "execution_count": null,
      "outputs": []
    },
    {
      "cell_type": "code",
      "source": [
        "# Save the combined dataframe to a CSV file\n",
        "combined_data.to_csv('/content/drive/My Drive/CIS550/datasets/combined_uk_life_expectancy.csv', index=False)"
      ],
      "metadata": {
        "id": "Nf6fYbD_SdL3"
      },
      "execution_count": null,
      "outputs": []
    }
  ]
}