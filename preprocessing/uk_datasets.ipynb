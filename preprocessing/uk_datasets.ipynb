{
  "nbformat": 4,
  "nbformat_minor": 0,
  "metadata": {
    "colab": {
      "provenance": []
    },
    "kernelspec": {
      "name": "python3",
      "display_name": "Python 3"
    },
    "language_info": {
      "name": "python"
    }
  },
  "cells": [
    {
      "cell_type": "code",
      "metadata": {
        "id": "t0GLbxBZjBjH"
      },
      "source": [
        "import pandas as pd\n",
        "import numpy as np"
      ],
      "execution_count": null,
      "outputs": []
    },
    {
      "cell_type": "code",
      "metadata": {
        "id": "-Fzl4FM9m7h1"
      },
      "source": [
        "prefix = '/content/drive'\n",
        "from google.colab import drive\n",
        "drive.mount(prefix, force_remount=True)"
      ],
      "execution_count": null,
      "outputs": []
    },
    {
      "cell_type": "code",
      "metadata": {
        "id": "cii5SRUU_HSA"
      },
      "source": [
        "areas_fp = '/content/drive/MyDrive/CIS550/project/uk/uk_areas_lookup.csv'\n",
        "life_expectancy_fp = '/content/drive/MyDrive/CIS550/project/uk/uk_life_expectancy.csv'"
      ],
      "execution_count": null,
      "outputs": []
    },
    {
      "cell_type": "code",
      "source": [
        "areas_data = pd.read_csv(areas_fp)\n",
        "life_expectancy_data = pd.read_csv(life_expectancy_fp)\n",
        "\n",
        "areas_data.head()"
      ],
      "metadata": {
        "id": "vT1Ky9AqeWB2"
      },
      "execution_count": null,
      "outputs": []
    },
    {
      "cell_type": "code",
      "source": [
        "life_expectancy_data.head()"
      ],
      "metadata": {
        "id": "iwBD5b3qemEm"
      },
      "execution_count": null,
      "outputs": []
    },
    {
      "cell_type": "code",
      "source": [
        "# Extract LocalArea columns from both DataFrames\n",
        "areas_local_areas = areas_data[\"LocalArea\"]\n",
        "life_expectancy_local_areas = life_expectancy_data[\"LocalArea\"]\n",
        "\n",
        "# Find the difference between the two sets of LocalArea values\n",
        "missing_local_areas = set(areas_local_areas) - set(life_expectancy_local_areas)\n",
        "\n",
        "# Print the missing LocalArea values\n",
        "print(\"LocalArea values in areas_data but not in life_expectancy_data:\")\n",
        "print(missing_local_areas)\n"
      ],
      "metadata": {
        "id": "zdJLX7QZe7K_"
      },
      "execution_count": null,
      "outputs": []
    },
    {
      "cell_type": "code",
      "source": [
        "uk_properties_fp = '/content/drive/MyDrive/CIS550/project/uk/uk_properties.csv'\n",
        "uk_properties_data = pd.read_csv(uk_properties_fp)\n",
        "uk_properties_data.head()"
      ],
      "metadata": {
        "id": "qUFMt7cXpX-E"
      },
      "execution_count": null,
      "outputs": []
    },
    {
      "cell_type": "code",
      "source": [
        "# Extract Sector columns from both DataFrames\n",
        "uk_properties_sector = uk_properties_data[\"Sector\"]\n",
        "areas_sector = areas_data[\"Sector\"]\n",
        "\n",
        "# Find the difference between the two sets of Sector values\n",
        "missing_sectors = set(uk_properties_sector) - set(areas_sector)\n",
        "\n",
        "# Print the missing Sector values\n",
        "print(\"Sector values in uk_properties_data but not in areas_data:\")\n",
        "print(missing_sectors)\n"
      ],
      "metadata": {
        "id": "Kd4zPWcpphMC"
      },
      "execution_count": null,
      "outputs": []
    },
    {
      "cell_type": "code",
      "source": [
        "# Function to clean a column (remove commas and percentage signs)\n",
        "def clean_column(column):\n",
        "    if column.dtype == 'object':\n",
        "        # Remove commas and percentage signs, keep NaN values as they are\n",
        "        column = column.str.replace(',', '').str.replace('%', '')\n",
        "        column = pd.to_numeric(column, errors='coerce')\n",
        "    return column\n",
        "\n",
        "# Columns to clean\n",
        "columns_to_clean = ['AvgAskingPrice', 'AvgBlendedSqftPrice', 'AvgAskingRent', 'AvgHouseholdIncome', 'SocialRent']\n",
        "\n",
        "# Apply cleaning function to each column\n",
        "for column in columns_to_clean:\n",
        "    uk_properties_data[column] = clean_column(uk_properties_data[column])\n",
        "\n",
        "# Save the cleaned CSV file\n",
        "uk_properties_data.to_csv('/content/drive/MyDrive/CIS550/project/uk/uk_properties_cleaned.csv', index=False)"
      ],
      "metadata": {
        "id": "F5zEi0pYshmQ"
      },
      "execution_count": null,
      "outputs": []
    }
  ]
}