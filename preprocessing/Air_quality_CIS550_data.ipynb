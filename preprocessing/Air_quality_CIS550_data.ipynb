{
  "nbformat": 4,
  "nbformat_minor": 0,
  "metadata": {
    "colab": {
      "provenance": []
    },
    "kernelspec": {
      "name": "python3",
      "display_name": "Python 3"
    },
    "language_info": {
      "name": "python"
    }
  },
  "cells": [
    {
      "cell_type": "code",
      "execution_count": null,
      "metadata": {
        "id": "-rMtuQ0WuMEg"
      },
      "outputs": [],
      "source": [
        "from google.colab import drive\n",
        "import pandas as pd\n",
        "import math\n",
        "import os\n",
        "prefix = '/content/drive'\n",
        "drive.mount(prefix, force_remount=True)"
      ]
    },
    {
      "cell_type": "code",
      "source": [
        "US_aqi_2023_df = pd.read_csv('/content/drive/MyDrive/CIS550 datasets/us_aqi_2023.csv')\n",
        "US_aqi_2023_df = US_aqi_2023_df.loc[:, ['State Code', 'County Code', 'Parameter Code', 'Sample Duration', 'Units of Measure',\n",
        "                                        'Valid Day Count', '99th Percentile', '90th Percentile', 'Arithmetic Mean',\n",
        "                                        'County Name', 'City Name']]\n",
        "print(US_aqi_2023_df.columns)\n",
        "US_aqi_2023_df['County Name'] = US_aqi_2023_df['County Name'].astype(str)\n",
        "US_aqi_2023_df['City Name'] = US_aqi_2023_df['City Name'].astype(str)\n",
        "US_aqi_2023_df['AQI Score'] = 0 # need to implement function\n",
        "US_aqi_2023_df.dtypes"
      ],
      "metadata": {
        "id": "tdVJ4TxXz0lc"
      },
      "execution_count": null,
      "outputs": []
    },
    {
      "cell_type": "code",
      "source": [
        "US_annual_aqi_2023_df = pd.read_csv('/content/drive/MyDrive/CIS550 datasets/annual_aqi_by_county_2023.csv')\n",
        "US_annual_aqi_2023_df.columns\n",
        "US_annual_aqi_2023_df.info()"
      ],
      "metadata": {
        "id": "OyUacUxI5VMP"
      },
      "execution_count": null,
      "outputs": []
    },
    {
      "cell_type": "code",
      "source": [
        "\n"
      ],
      "metadata": {
        "id": "w_23VkxUP0ZZ"
      },
      "execution_count": null,
      "outputs": []
    },
    {
      "cell_type": "code",
      "source": [
        "# UK data, we can join data if we want single table\n",
        "# utilize annual average values to determine AQI score\n",
        "UK_10_df = pd.read_excel('/content/drive/MyDrive/CIS550 datasets/UK_PM10.xlsx')\n",
        "UK_25_df = pd.read_excel('/content/drive/MyDrive/CIS550 datasets/UK_25PM.xlsx')\n",
        "UK_NO2_df = pd.read_excel('/content/drive/MyDrive/CIS550 datasets/UK_N02.xlsx')\n",
        "UK_O3_df = pd.read_excel('/content/drive/MyDrive/CIS550 datasets/UK_O3.xlsx')\n",
        "UK_10_df.info()\n",
        "UK_25_df.info()\n",
        "UK_NO2_df.info()\n",
        "UK_O3_df.info()\n",
        "# NO2 (µg/m³):\n",
        "\n",
        "# 0-200: Good\n",
        "# 200-400: Moderate\n",
        "# 400-600: Poor\n",
        "# 600-800: Very Poor\n",
        "# 800: Severe\n",
        "\n",
        "# O3 (µg/m³):\n",
        "\n",
        "# 0-100: Good\n",
        "# 100-180: Moderate\n",
        "# 180-240: Poor\n",
        "# 240-300: Very Poor\n",
        "# 300: Severe\n",
        "\n",
        "# PM2.5 (µg/m³):\n",
        "\n",
        "# 0-35: Good\n",
        "# 35-53: Moderate\n",
        "# 53-70: Poor\n",
        "# 70-100: Very Poor\n",
        "# 100: Severe\n",
        "\n",
        "# PM10 (µg/m³):\n",
        "\n",
        "# 0-50: Good\n",
        "# 50-100: Moderate\n",
        "# 100-150: Poor\n",
        "# 150-200: Very Poor\n",
        "# 200: Severe"
      ],
      "metadata": {
        "id": "WjRT02QP8Vwq"
      },
      "execution_count": null,
      "outputs": []
    },
    {
      "cell_type": "code",
      "source": [
        "UK_10_df.to_csv('/content/drive/MyDrive/CIS550 datasets/UK_pm10_data.csv', index=False)\n",
        "UK_25_df.to_csv('/content/drive/MyDrive/CIS550 datasets/UK_pm25_data.csv', index=False)\n",
        "UK_NO2_df.to_csv('/content/drive/MyDrive/CIS550 datasets/UK_NO2_data.csv', index=False)\n",
        "UK_O3_df.to_csv('/content/drive/MyDrive/CIS550 datasets/UK_O3_data.csv', index=False)"
      ],
      "metadata": {
        "id": "uRXfhYQLQKFE"
      },
      "execution_count": null,
      "outputs": []
    },
    {
      "cell_type": "code",
      "source": [
        "print(len(UK_10_df['Site'].unique()))\n",
        "print(len(UK_25_df['Site'].unique()))\n",
        "print(len(UK_NO2_df['Site'].unique()))\n",
        "print(len(UK_O3_df['Site'].unique()))\n",
        "# print(UK_NO2_df['Site'].unique())\n",
        "# print(UK_O3_df['Site'].unique())\n",
        "# UK_25_df['Site'].unique()"
      ],
      "metadata": {
        "id": "frQzwyGweTt5"
      },
      "execution_count": null,
      "outputs": []
    },
    {
      "cell_type": "markdown",
      "source": [],
      "metadata": {
        "id": "Wf9AWn1sKC2h"
      }
    },
    {
      "cell_type": "code",
      "source": [
        "# US AQI Breakpoints\n",
        "# Ozone (O3) 8-hour average (ppm)\n",
        "# AQI Category\tAQI Range\tO3 (ppm)\n",
        "    # Good\t0-50\t0.000-0.054\n",
        "    # Moderate\t51-100\t0.055-0.070\n",
        "    # Unhealthy for Sensitive Groups\t101-150\t0.071-0.085\n",
        "    # Unhealthy\t151-200\t0.086-0.105\n",
        "    # Very Unhealthy\t201-300\t0.106-0.200\n",
        "    # Hazardous\t301-500\t0.201-0.604\n",
        "# PM2.5 (µg/m³) 24-hour average\n",
        "# AQI Category\tAQI Range\tPM2.5 (µg/m³)\n",
        "    # Good\t0-50\t0.0-12.0\n",
        "    # Moderate\t51-100\t12.1-35.4\n",
        "    # Unhealthy for Sensitive Groups\t101-150\t35.5-55.4\n",
        "    # Unhealthy\t151-200\t55.5-150.4\n",
        "    # Very Unhealthy\t201-300\t150.5-250.4\n",
        "    # Hazardous\t301-500\t250.5-500.4\n",
        "# PM10 (µg/m³) 24-hour average\n",
        "# AQI Category\tAQI Range\tPM10 (µg/m³)\n",
        "    # Good\t0-50\t0-54\n",
        "    # Moderate\t51-100\t55-154\n",
        "    # Unhealthy for Sensitive Groups\t101-150\t155-254\n",
        "    # Unhealthy\t151-200\t255-354\n",
        "    # Very Unhealthy\t201-300\t355-424\n",
        "    # Hazardous\t301-500\t425-604\n",
        "# NO2 (ppb) 1-hour average\n",
        "# AQI Category\tAQI Range\tNO2 (ppb)\n",
        "    # Good\t0-50\t0-53\n",
        "    # Moderate\t51-100\t54-100\n",
        "    # Unhealthy for Sensitive Groups\t101-150\t101-360\n",
        "    # Unhealthy\t151-200\t361-649\n",
        "    # Very Unhealthy\t201-300\t650-1249\n",
        "    # Hazardous\t301-500\t1250-2049"
      ],
      "metadata": {
        "id": "rLErU9QtKEx0"
      },
      "execution_count": null,
      "outputs": []
    },
    {
      "cell_type": "code",
      "source": [],
      "metadata": {
        "id": "kgg3ci4OPj9_"
      },
      "execution_count": null,
      "outputs": []
    }
  ]
}