{
  "nbformat": 4,
  "nbformat_minor": 0,
  "metadata": {
    "colab": {
      "provenance": []
    },
    "kernelspec": {
      "name": "python3",
      "display_name": "Python 3"
    },
    "language_info": {
      "name": "python"
    }
  },
  "cells": [
    {
      "cell_type": "code",
      "metadata": {
        "id": "t0GLbxBZjBjH"
      },
      "source": [
        "import pandas as pd\n",
        "import numpy as np\n",
        "import os"
      ],
      "execution_count": null,
      "outputs": []
    },
    {
      "cell_type": "code",
      "metadata": {
        "id": "-Fzl4FM9m7h1"
      },
      "source": [
        "prefix = '/content/drive'\n",
        "from google.colab import drive\n",
        "drive.mount(prefix, force_remount=True)"
      ],
      "execution_count": null,
      "outputs": []
    },
    {
      "cell_type": "markdown",
      "source": [
        "##**Reduce size of Zips file**"
      ],
      "metadata": {
        "id": "uN1gdSub9NAn"
      }
    },
    {
      "cell_type": "code",
      "source": [
        "zips_fp = '/content/drive/MyDrive/CIS550/project/us/zip_tract.csv'\n",
        "zips_df = pd.read_csv(zips_fp, dtype={'Census_Tract': str, 'Zip': str, 'StateCode': str, 'CountyCode': str})\n",
        "zips_df.head()"
      ],
      "metadata": {
        "id": "g6UcN1vw9Wa9"
      },
      "execution_count": null,
      "outputs": []
    },
    {
      "cell_type": "code",
      "source": [
        "zips_df_trim = zips_df.drop(columns=['ZipCity', 'ZipState'])\n",
        "zips_trim_fp = '/content/drive/MyDrive/CIS550/project/us/zip_tract_trim.csv'\n",
        "zips_df_trim.to_csv(zips_trim_fp)\n"
      ],
      "metadata": {
        "id": "gkrBRY11ALta"
      },
      "execution_count": null,
      "outputs": []
    },
    {
      "cell_type": "markdown",
      "source": [
        "##**Split Zip Tract file**"
      ],
      "metadata": {
        "id": "JrrOkSem80cx"
      }
    },
    {
      "cell_type": "code",
      "source": [
        "zips_fp = '/content/drive/MyDrive/CIS550/project/us/zip_tract.csv'"
      ],
      "metadata": {
        "id": "2V1Ch7514qDE"
      },
      "execution_count": null,
      "outputs": []
    },
    {
      "cell_type": "code",
      "source": [
        "zips_df = pd.read_csv(zips_fp, dtype={'Census_Tract': str, 'Zip': str, 'StateCode': str, 'CountyCode': str})\n",
        "zips_df.head()"
      ],
      "metadata": {
        "id": "Fsv51wNO41F0"
      },
      "execution_count": null,
      "outputs": []
    },
    {
      "cell_type": "code",
      "source": [
        "# Calculate the number of rows in the DataFrame\n",
        "num_rows = len(zips_df)\n",
        "\n",
        "# Calculate the number of files to split into\n",
        "num_files = int(np.ceil(num_rows / 10000))\n",
        "\n",
        "# Iterate over the files\n",
        "for i in range(num_files):\n",
        "  # Calculate the start and end indices for the current file\n",
        "  start_index = i * 10000\n",
        "  end_index = min((i + 1) * 10000, num_rows)\n",
        "\n",
        "  # Extract the rows for the current file\n",
        "  file_df = zips_df[start_index:end_index]\n",
        "\n",
        "  # Save the file\n",
        "  file_name = f'zips_df_part_{i}.csv'\n",
        "  file_path = os.path.join('/content/drive/MyDrive/CIS550/project/us/', file_name)\n",
        "  file_df.to_csv(file_path, index=False)\n"
      ],
      "metadata": {
        "id": "OecVdWT845sa"
      },
      "execution_count": null,
      "outputs": []
    }
  ]
}